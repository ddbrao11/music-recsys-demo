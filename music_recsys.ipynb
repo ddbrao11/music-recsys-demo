{
 "cells": [
  {
   "cell_type": "markdown",
   "id": "af5d2109",
   "metadata": {},
   "source": [
    "# Music Recommendation System\n",
    "This notebook demonstrates a hybrid recommendation system using collaborative and content-based filtering."
   ]
  },
  {
   "cell_type": "code",
   "execution_count": null,
   "id": "99fee1a1",
   "metadata": {},
   "outputs": [],
   "source": [
    "import pandas as pd\n",
    "from sklearn.metrics.pairwise import cosine_similarity\n",
    "from sklearn.preprocessing import StandardScaler\n",
    "from surprise import Dataset, Reader, SVD\n",
    "from surprise.model_selection import train_test_split\n",
    "import warnings\n",
    "warnings.filterwarnings(\"ignore\")\n"
   ]
  },
  {
   "cell_type": "markdown",
   "id": "6208c773",
   "metadata": {},
   "source": [
    "##  Load Data"
   ]
  },
  {
   "cell_type": "code",
   "execution_count": null,
   "id": "8ac7ddd3",
   "metadata": {},
   "outputs": [],
   "source": [
    "songs_df = pd.read_csv('songs_metadata.csv')\n",
    "interactions_df = pd.read_csv('user_interactions.csv')\n",
    "songs_df.head()\n"
   ]
  },
  {
   "cell_type": "markdown",
   "id": "0f63b79f",
   "metadata": {},
   "source": [
    "##  Collaborative Filtering (Using Surprise SVD)"
   ]
  },
  {
   "cell_type": "code",
   "execution_count": null,
   "id": "16ca5400",
   "metadata": {},
   "outputs": [],
   "source": [
    "reader = Reader(rating_scale=(1, 5))\n",
    "data = Dataset.load_from_df(interactions_df[['user_id', 'song_id', 'rating']], reader)\n",
    "trainset, testset = train_test_split(data, test_size=0.2)\n",
    "\n",
    "model = SVD()\n",
    "model.fit(trainset)\n",
    "\n",
    "predictions = model.test(testset)\n",
    "\n",
    "from surprise.accuracy import rmse\n",
    "rmse(predictions)\n"
   ]
  },
  {
   "cell_type": "markdown",
   "id": "e6ad198f",
   "metadata": {},
   "source": [
    "##  Content-Based Filtering"
   ]
  },
  {
   "cell_type": "code",
   "execution_count": null,
   "id": "6de7c0f8",
   "metadata": {},
   "outputs": [],
   "source": [
    "features = songs_df[['tempo', 'energy']]\n",
    "scaler = StandardScaler()\n",
    "features_scaled = scaler.fit_transform(features)\n",
    "\n",
    "similarity_matrix = cosine_similarity(features_scaled)\n",
    "similarity_df = pd.DataFrame(similarity_matrix, index=songs_df['title'], columns=songs_df['title'])\n",
    "\n",
    "# Show similar songs to \"Dreaming High\"\n",
    "similarity_df['Dreaming High'].sort_values(ascending=False)\n"
   ]
  },
  {
   "cell_type": "markdown",
   "id": "15e5ccb3",
   "metadata": {},
   "source": [
    "##  Hybrid Recommendation"
   ]
  },
  {
   "cell_type": "code",
   "execution_count": null,
   "id": "5194d088",
   "metadata": {},
   "outputs": [],
   "source": [
    "def recommend_songs(user_id, top_n=3):\n",
    "    user_history = interactions_df[interactions_df['user_id'] == user_id]['song_id'].tolist()\n",
    "    all_songs = songs_df['song_id'].tolist()\n",
    "    recommendations = []\n",
    "\n",
    "    for song_id in all_songs:\n",
    "        if song_id not in user_history:\n",
    "            pred = model.predict(user_id, song_id)\n",
    "            recommendations.append((song_id, pred.est))\n",
    "    \n",
    "    recommendations.sort(key=lambda x: x[1], reverse=True)\n",
    "    top_recs = [song for song, _ in recommendations[:top_n]]\n",
    "    return songs_df[songs_df['song_id'].isin(top_recs)][['title', 'artist', 'genre']]\n",
    "\n",
    "recommend_songs('u3')\n"
   ]
  },
  {
   "cell_type": "markdown",
   "id": "abaae254",
   "metadata": {},
   "source": [
    "##  Conclusion\n",
    "We built a simple hybrid recommender system using collaborative filtering (SVD) and content-based filtering (cosine similarity of song features)."
   ]
  }
 ],
 "metadata": {},
 "nbformat": 4,
 "nbformat_minor": 5
}
